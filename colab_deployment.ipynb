{
 "cells": [
  {
   "cell_type": "markdown",
   "metadata": {
    "id": "header"
   },
   "source": [
    "# 🌸 Система прогнозирования продаж цветов\n",
    "\n",
    "## Развертывание в Google Colab\n",
    "\n",
    "Этот ноутбук позволяет запустить систему прогнозирования цветов прямо в Google Colab с полной интеграцией с Google Sheets.\n",
    "\n",
    "### 📋 Что включено:\n",
    "- ✅ Streamlit веб-интерфейс\n",
    "- ✅ Интеграция с Google Sheets\n",
    "- ✅ Система машинного обучения\n",
    "- ✅ Мультимагазинная архитектура\n",
    "- ✅ Ручная корректировка прогнозов\n",
    "\n",
    "### 🚀 Инструкции по запуску:\n",
    "1. Выполните все ячейки по порядку\n",
    "2. Загрузите ваш файл `service_account_key.json` когда появится запрос\n",
    "3. Укажите URL вашей Google Таблицы\n",
    "4. Перейдите по ссылке на веб-интерфейс"
   ]
  },
  {
   "cell_type": "markdown",
   "metadata": {
    "id": "installation"
   },
   "source": [
    "## 📦 Установка зависимостей"
   ]
  },
  {
   "cell_type": "code",
   "execution_count": null,
   "metadata": {
    "id": "install_packages"
   },
   "outputs": [],
   "source": [
    "# Установка необходимых пакетов\n",
    "!pip install streamlit pandas numpy plotly gspread google-auth scikit-learn requests openpyxl\n",
    "!npm install -g localtunnel"
   ]
  },
  {
   "cell_type": "markdown",
   "metadata": {
    "id": "setup"
   },
   "source": [
    "## ⚙️ Настройка проекта"
   ]
  },
  {
   "cell_type": "code",
   "execution_count": null,
   "metadata": {
    "id": "clone_project"
   },
   "outputs": [],
   "source": [
    "# Клонирование проекта\n",
    "!git clone https://github.com/Alanaa5800/flower-forecast.git\n",
    "%cd flower-forecast"
   ]
  },
  {
   "cell_type": "code",
   "execution_count": null,
   "metadata": {
    "id": "upload_credentials"
   },
   "outputs": [],
   "source": [
    "# Загрузка файла ключей Google Cloud\n",
    "from google.colab import files\n",
    "import json\n",
    "\n",
    "print(\"🔐 Загрузите ваш файл service_account_key.json:\")\n",
    "uploaded = files.upload()\n",
    "\n",
    "# Проверяем, что файл загружен\n",
    "if 'service_account_key.json' in uploaded:\n",
    "    print(\"✅ Файл ключей загружен успешно!\")\n",
    "    \n",
    "    # Проверяем структуру файла\n",
    "    with open('service_account_key.json', 'r') as f:\n",
    "        key_data = json.load(f)\n",
    "    \n",
    "    print(f\"📧 Email сервисного аккаунта: {key_data['client_email']}\")\n",
    "    print(f\"🏗️ Проект: {key_data['project_id']}\")\n",
    "else:\n",
    "    print(\"❌ Файл не загружен. Пожалуйста, загрузите service_account_key.json\")"
   ]
  },
  {
   "cell_type": "code",
   "execution_count": null,
   "metadata": {
    "id": "configure_spreadsheet"
   },
   "outputs": [],
   "source": [
    "# Настройка URL Google Таблицы\n",
    "SPREADSHEET_URL = input(\"📊 Введите URL вашей Google Таблицы: \")\n",
    "\n",
    "if SPREADSHEET_URL:\n",
    "    print(f\"✅ URL сохранен: {SPREADSHEET_URL[:50]}...\")\n",
    "else:\n",
    "    print(\"❌ URL не указан. Будет использована демо-версия\")\n",
    "    SPREADSHEET_URL = \"DEMO_MODE\""
   ]
  },
  {
   "cell_type": "markdown",
   "metadata": {
    "id": "test_connection"
   },
   "source": [
    "## 🔗 Тестирование подключения"
   ]
  },
  {
   "cell_type": "code",
   "execution_count": null,
   "metadata": {
    "id": "test_google_sheets"
   },
   "outputs": [],
   "source": [
    "# Тест подключения к Google Sheets\n",
    "import gspread\n",
    "from google.oauth2.service_account import Credentials\n",
    "import os\n",
    "\n",
    "def test_google_sheets_connection():\n",
    "    if not os.path.exists('service_account_key.json'):\n",
    "        print(\"❌ Файл ключей не найден\")\n",
    "        return False\n",
    "    \n",
    "    if SPREADSHEET_URL == \"DEMO_MODE\":\n",
    "        print(\"📊 Режим демонстрации - Google Sheets не используется\")\n",
    "        return True\n",
    "    \n",
    "    try:\n",
    "        # Подключение к Google Sheets\n",
    "        scope = ['https://spreadsheets.google.com/feeds',\n",
    "                'https://www.googleapis.com/auth/drive']\n",
    "        \n",
    "        creds = Credentials.from_service_account_file(\n",
    "            'service_account_key.json', scopes=scope\n",
    "        )\n",
    "        \n",
    "        gc = gspread.authorize(creds)\n",
    "        sheet = gc.open_by_url(SPREADSHEET_URL)\n",
    "        \n",
    "        print(f\"✅ Подключение успешно!\")\n",
    "        print(f\"📊 Название таблицы: {sheet.title}\")\n",
    "        \n",
    "        # Проверка листов\n",
    "        worksheets = sheet.worksheets()\n",
    "        print(f\"📄 Найдено листов: {len(worksheets)}\")\n",
    "        \n",
    "        for ws in worksheets:\n",
    "            print(f\"  - {ws.title}\")\n",
    "        \n",
    "        return True\n",
    "        \n",
    "    except Exception as e:\n",
    "        print(f\"❌ Ошибка подключения: {e}\")\n",
    "        return False\n",
    "\n",
    "connection_ok = test_google_sheets_connection()"
   ]
  },
  {
   "cell_type": "markdown",
   "metadata": {
    "id": "demo_data"
   },
   "source": [
    "## 📊 Демонстрация работы системы"
   ]
  },
  {
   "cell_type": "code",
   "execution_count": null,
   "metadata": {
    "id": "run_demo"
   },
   "outputs": [],
   "source": [
    "# Запуск демонстрации системы\n",
    "!python3 simple_demo.py"
   ]
  },
  {
   "cell_type": "code",
   "execution_count": null,
   "metadata": {
    "id": "test_model_training"
   },
   "outputs": [],
   "source": [
    "# Демонстрация обучения модели\n",
    "!python3 model_training.py"
   ]
  },
  {
   "cell_type": "markdown",
   "metadata": {
    "id": "streamlit_app"
   },
   "source": [
    "## 🌐 Запуск веб-интерфейса Streamlit"
   ]
  },
  {
   "cell_type": "code",
   "execution_count": null,
   "metadata": {
    "id": "modify_streamlit_app"
   },
   "outputs": [],
   "source": [
    "# Модификация Streamlit приложения для Colab\n",
    "streamlit_code = '''\n",
    "import streamlit as st\n",
    "import pandas as pd\n",
    "import numpy as np\n",
    "import plotly.express as px\n",
    "import plotly.graph_objects as go\n",
    "from datetime import datetime, timedelta\n",
    "import json\n",
    "import os\n",
    "\n",
    "# Специальная конфигурация для Colab\n",
    "st.set_page_config(\n",
    "    page_title=\"🌸 Система прогнозирования продаж цветов (Colab)\",\n",
    "    page_icon=\"🌸\",\n",
    "    layout=\"wide\",\n",
    "    initial_sidebar_state=\"expanded\"\n",
    ")\n",
    "\n",
    "# Проверяем наличие Google Sheets интеграции\n",
    "GOOGLE_SHEETS_AVAILABLE = os.path.exists('service_account_key.json')\n",
    "\n",
    "# Загружаем основное приложение\n",
    "exec(open('streamlit_forecast_app.py').read())\n",
    "\n",
    "# Добавляем информацию о Colab\n",
    "st.sidebar.markdown(\"---\")\n",
    "st.sidebar.markdown(\"### 🚀 Colab Deployment\")\n",
    "st.sidebar.info(\"Приложение запущено в Google Colab\")\n",
    "\n",
    "if GOOGLE_SHEETS_AVAILABLE:\n",
    "    st.sidebar.success(\"✅ Google Sheets подключен\")\n",
    "else:\n",
    "    st.sidebar.warning(\"⚠️ Демо режим (без Google Sheets)\")\n",
    "'''\n",
    "\n",
    "# Сохраняем модифицированное приложение\n",
    "with open('streamlit_colab_app.py', 'w', encoding='utf-8') as f:\n",
    "    f.write(streamlit_code)\n",
    "\n",
    "print(\"✅ Streamlit приложение подготовлено для Colab\")"
   ]
  },
  {
   "cell_type": "code",
   "execution_count": null,
   "metadata": {
    "id": "start_streamlit"
   },
   "outputs": [],
   "source": [
    "# Запуск Streamlit в фоновом режиме\n",
    "import subprocess\n",
    "import time\n",
    "import threading\n",
    "\n",
    "def run_streamlit():\n",
    "    subprocess.run([\n",
    "        'streamlit', 'run', 'streamlit_colab_app.py',\n",
    "        '--server.port', '8501',\n",
    "        '--server.headless', 'true',\n",
    "        '--server.enableCORS', 'false',\n",
    "        '--server.enableXsrfProtection', 'false'\n",
    "    ])\n",
    "\n",
    "# Запускаем Streamlit в отдельном потоке\n",
    "streamlit_thread = threading.Thread(target=run_streamlit)\n",
    "streamlit_thread.daemon = True\n",
    "streamlit_thread.start()\n",
    "\n",
    "print(\"🚀 Streamlit запускается...\")\n",
    "time.sleep(10)  # Ждем запуска\n",
    "print(\"✅ Streamlit запущен на порту 8501\")"
   ]
  },
  {
   "cell_type": "code",
   "execution_count": null,
   "metadata": {
    "id": "setup_tunnel"
   },
   "outputs": [],
   "source": [
    "# Создание туннеля для доступа к приложению\n",
    "import subprocess\n",
    "import time\n",
    "import re\n",
    "\n",
    "def create_tunnel():\n",
    "    try:\n",
    "        # Запуск localtunnel\n",
    "        result = subprocess.run(\n",
    "            ['npx', 'localtunnel', '--port', '8501'],\n",
    "            capture_output=True,\n",
    "            text=True,\n",
    "            timeout=30\n",
    "        )\n",
    "        \n",
    "        if result.returncode == 0:\n",
    "            # Извлекаем URL из вывода\n",
    "            output = result.stdout\n",
    "            url_match = re.search(r'https://[\\w-]+\\.loca\\.lt', output)\n",
    "            if url_match:\n",
    "                return url_match.group(0)\n",
    "        \n",
    "        return None\n",
    "        \n",
    "    except Exception as e:\n",
    "        print(f\"Ошибка создания туннеля: {e}\")\n",
    "        return None\n",
    "\n",
    "# Пытаемся создать туннель\n",
    "print(\"🌐 Создание публичного доступа...\")\n",
    "tunnel_url = create_tunnel()\n",
    "\n",
    "if tunnel_url:\n",
    "    print(f\"✅ Приложение доступно по адресу: {tunnel_url}\")\n",
    "    print(\"\\n🎯 Инструкции:\")\n",
    "    print(\"1. Перейдите по ссылке выше\")\n",
    "    print(\"2. Нажмите 'Click to Continue'\")\n",
    "    print(\"3. Используйте систему прогнозирования!\")\n",
    "else:\n",
    "    print(\"❌ Не удалось создать публичный доступ\")\n",
    "    print(\"Приложение доступно локально на порту 8501\")"
   ]
  },
  {
   "cell_type": "markdown",
   "metadata": {
    "id": "alternative_access"
   },
   "source": [
    "## 🔄 Альтернативный способ доступа"
   ]
  },
  {
   "cell_type": "code",
   "execution_count": null,
   "metadata": {
    "id": "ngrok_setup"
   },
   "outputs": [],
   "source": [
    "# Использование ngrok как альтернативы\n",
    "!pip install pyngrok\n",
    "\n",
    "from pyngrok import ngrok\n",
    "import time\n",
    "\n",
    "try:\n",
    "    # Создаем туннель через ngrok\n",
    "    public_url = ngrok.connect(8501)\n",
    "    print(f\"🌐 Приложение доступно по адресу: {public_url}\")\n",
    "    print(\"\\n🎯 Инструкции:\")\n",
    "    print(\"1. Перейдите по ссылке выше\")\n",
    "    print(\"2. Используйте систему прогнозирования!\")\n",
    "    print(\"\\n⚠️ Внимание: туннель будет активен только пока работает этот ноутбук\")\n",
    "    \n",
    "except Exception as e:\n",
    "    print(f\"❌ Ошибка создания ngrok туннеля: {e}\")\n",
    "    print(\"Попробуйте использовать localtunnel выше\")"
   ]
  },
  {
   "cell_type": "markdown",
   "metadata": {
    "id": "usage_instructions"
   },
   "source": [
    "## 📖 Инструкция по использованию\n",
    "\n",
    "### 🎯 Основные функции:\n",
    "\n",
    "1. **📊 Прогноз** - просмотр прогнозов продаж\n",
    "2. **✏️ Корректировки** - ручная правка прогнозов\n",
    "3. **🌤️ Погода** - учет погодных условий\n",
    "4. **📈 Аналитика** - анализ и метрики\n",
    "5. **⚙️ Настройки** - конфигурация системы\n",
    "\n",
    "### 🚀 Быстрый старт:\n",
    "\n",
    "1. Перейдите по ссылке выше\n",
    "2. В боковой панели выберите магазины\n",
    "3. Нажмите \"🔄 Обновить прогноз\"\n",
    "4. Изучите результаты во вкладке \"📊 Прогноз\"\n",
    "5. При необходимости внесите корректировки во вкладке \"✏️ Корректировки\"\n",
    "\n",
    "### 🔧 Интеграция с Google Sheets:\n",
    "\n",
    "Если вы загрузили файл ключей и указали URL таблицы:\n",
    "- Данные автоматически сохраняются в Google Sheets\n",
    "- Можно загружать исторические данные из таблицы\n",
    "- Корректировки синхронизируются с облаком\n",
    "\n",
    "### 📞 Поддержка:\n",
    "\n",
    "При возникновении проблем:\n",
    "1. Перезапустите ячейку с Streamlit\n",
    "2. Проверьте подключение к Google Sheets\n",
    "3. Обратитесь к документации в репозитории"
   ]
  },
  {
   "cell_type": "markdown",
   "metadata": {
    "id": "monitoring"
   },
   "source": [
    "## 📊 Мониторинг системы"
   ]
  },
  {
   "cell_type": "code",
   "execution_count": null,
   "metadata": {
    "id": "system_status"
   },
   "outputs": [],
   "source": [
    "# Мониторинг состояния системы\n",
    "import requests\n",
    "import time\n",
    "import psutil\n",
    "\n",
    "def check_system_status():\n",
    "    print(\"🔍 Проверка состояния системы...\")\n",
    "    print(\"=\" * 40)\n",
    "    \n",
    "    # Проверка Streamlit\n",
    "    try:\n",
    "        response = requests.get('http://localhost:8501', timeout=5)\n",
    "        if response.status_code == 200:\n",
    "            print(\"✅ Streamlit: Работает\")\n",
    "        else:\n",
    "            print(f\"⚠️ Streamlit: Код ответа {response.status_code}\")\n",
    "    except:\n",
    "        print(\"❌ Streamlit: Не отвечает\")\n",
    "    \n",
    "    # Проверка файлов\n",
    "    files_to_check = [\n",
    "        'streamlit_forecast_app.py',\n",
    "        'google_sheets_integration.py',\n",
    "        'multi_store_architecture.py',\n",
    "        'model_training.py'\n",
    "    ]\n",
    "    \n",
    "    for file in files_to_check:\n",
    "        if os.path.exists(file):\n",
    "            print(f\"✅ {file}: Найден\")\n",
    "        else:\n",
    "            print(f\"❌ {file}: Отсутствует\")\n",
    "    \n",
    "    # Проверка Google Sheets\n",
    "    if os.path.exists('service_account_key.json'):\n",
    "        print(\"✅ Google Sheets: Ключи найдены\")\n",
    "    else:\n",
    "        print(\"⚠️ Google Sheets: Ключи не загружены\")\n",
    "    \n",
    "    # Использование ресурсов\n",
    "    memory = psutil.virtual_memory()\n",
    "    print(f\"💾 Память: {memory.percent}% ({memory.used // 1024**2} MB)\")\n",
    "    \n",
    "    print(\"\\n🕐 Время проверки:\", datetime.now().strftime(\"%Y-%m-%d %H:%M:%S\"))\n",
    "\n",
    "check_system_status()"
   ]
  },
  {
   "cell_type": "code",
   "execution_count": null,
   "metadata": {
    "id": "keep_alive"
   },
   "outputs": [],
   "source": [
    "# Поддержание работы системы\n",
    "print(\"🔄 Система работает...\")\n",
    "print(\"💡 Оставьте эту ячейку запущенной для поддержания работы приложения\")\n",
    "print(\"⏹️ Для остановки прервите выполнение ячейки\")\n",
    "\n",
    "try:\n",
    "    while True:\n",
    "        time.sleep(300)  # Проверка каждые 5 минут\n",
    "        print(f\"⏰ {datetime.now().strftime('%H:%M:%S')} - Система активна\")\n",
    "        \n",
    "        # Проверяем, что Streamlit все еще работает\n",
    "        try:\n",
    "            response = requests.get('http://localhost:8501/_stcore/health', timeout=5)\n",
    "            if response.status_code != 200:\n",
    "                print(\"⚠️ Streamlit возможно завис, перезапуск...\")\n",
    "                # Здесь можно добавить логику перезапуска\n",
    "        except:\n",
    "            print(\"❌ Streamlit не отвечает\")\n",
    "            \n",
    "except KeyboardInterrupt:\n",
    "    print(\"\\n🛑 Система остановлена пользователем\")\n",
    "except Exception as e:\n",
    "    print(f\"\\n❌ Ошибка системы: {e}\")"
   ]
  }
 ],
 "metadata": {
  "colab": {
   "provenance": [],
   "name": "Flower Forecast Deployment.ipynb"
  },
  "kernelspec": {
   "display_name": "Python 3",
   "name": "python3"
  },
  "language_info": {
   "name": "python"
  }
 },
 "nbformat": 4,
 "nbformat_minor": 0
}